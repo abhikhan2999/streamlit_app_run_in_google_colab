{
  "nbformat": 4,
  "nbformat_minor": 0,
  "metadata": {
    "colab": {
      "provenance": []
    },
    "kernelspec": {
      "name": "python3",
      "display_name": "Python 3"
    },
    "language_info": {
      "name": "python"
    }
  },
  "cells": [
    {
      "cell_type": "code",
      "source": [
        "%%writefile app.py\n",
        "import streamlit as st\n",
        "\n",
        "st.title('Hello, AI Community! I am Abbas Khan the datascientist')\n",
        "\n",
        "\n",
        "st.title('This is the Test to lanch a streamlit App from Google Colab.')\n",
        "\n"
      ],
      "metadata": {
        "colab": {
          "base_uri": "https://localhost:8080/"
        },
        "id": "Y9Bog3RWS46U",
        "outputId": "16c72787-b403-4e43-8c48-265da2734a2a"
      },
      "execution_count": 10,
      "outputs": [
        {
          "output_type": "stream",
          "name": "stdout",
          "text": [
            "Overwriting app.py\n"
          ]
        }
      ]
    },
    {
      "cell_type": "code",
      "source": [
        "\n",
        "import subprocess\n",
        "import threading\n",
        "\n",
        "# Function to run the Streamlit app\n",
        "def run_streamlit():\n",
        "    subprocess.run([\"streamlit\", \"run\", \"app.py\"])\n",
        "\n",
        "# Run Streamlit app in a separate thread\n",
        "thread = threading.Thread(target=run_streamlit)\n",
        "thread.start()"
      ],
      "metadata": {
        "id": "IH0UMiIgS56P"
      },
      "execution_count": 11,
      "outputs": []
    },
    {
      "cell_type": "code",
      "source": [
        "# Create a tunnel using serveo.net\n",
        "!ssh -o StrictHostKeyChecking=no -R 80:localhost:8501 serveo.net"
      ],
      "metadata": {
        "colab": {
          "base_uri": "https://localhost:8080/"
        },
        "id": "f4-23qJITMho",
        "outputId": "8eac4dea-43e3-4f90-f22f-8c7a5c19e683"
      },
      "execution_count": null,
      "outputs": [
        {
          "output_type": "stream",
          "name": "stdout",
          "text": [
            "\u001b[32mForwarding HTTP traffic from https://e807b37edcbb0db4c3a001f5333ad9bb.serveo.net\n",
            "\u001b[0mHTTP request from 103.137.24.127 to https://e807b37edcbb0db4c3a001f5333ad9bb.serveo.net/\n",
            "HTTP request from 103.137.24.127 to https://e807b37edcbb0db4c3a001f5333ad9bb.serveo.net/static/media/SourceSansPro-Regular.0d69e5ff5e92ac64a0c9.woff2\n",
            "HTTP request from 103.137.24.127 to https://e807b37edcbb0db4c3a001f5333ad9bb.serveo.net/static/media/SourceSansPro-SemiBold.abed79cd0df1827e18cf.woff2\n",
            "HTTP request from 103.137.24.127 to https://e807b37edcbb0db4c3a001f5333ad9bb.serveo.net/static/css/main.29bca1b5.css\n",
            "HTTP request from 103.137.24.127 to https://e807b37edcbb0db4c3a001f5333ad9bb.serveo.net/static/media/SourceSansPro-Bold.118dea98980e20a81ced.woff2\n",
            "HTTP request from 103.137.24.127 to https://e807b37edcbb0db4c3a001f5333ad9bb.serveo.net/static/js/main.d55f6a3c.js\n",
            "HTTP request from 103.137.24.127 to https://e807b37edcbb0db4c3a001f5333ad9bb.serveo.net/_stcore/health\n",
            "HTTP request from 103.137.24.127 to https://e807b37edcbb0db4c3a001f5333ad9bb.serveo.net/_stcore/host-config\n",
            "HTTP request from 103.137.24.127 to https://e807b37edcbb0db4c3a001f5333ad9bb.serveo.net/favicon.png\n",
            "HTTP request from 103.137.24.127 to https://e807b37edcbb0db4c3a001f5333ad9bb.serveo.net/_stcore/stream\n"
          ]
        }
      ]
    },
    {
      "cell_type": "code",
      "source": [],
      "metadata": {
        "id": "xNAb7XlYUKWW"
      },
      "execution_count": null,
      "outputs": []
    }
  ]
}